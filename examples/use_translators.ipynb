{
 "cells": [
  {
   "cell_type": "code",
   "execution_count": 1,
   "id": "dc5361be-011c-41e6-9ba5-64b306a492f0",
   "metadata": {},
   "outputs": [],
   "source": [
    "import sys, os\n",
    "sys.path.insert(0, os.path.abspath(os.path.join(os.getcwd(), os.pardir, 'translators')))"
   ]
  },
  {
   "cell_type": "markdown",
   "id": "7b43e737-81b5-4441-bf64-1c67c24df721",
   "metadata": {},
   "source": [
    "### Translator to/from Indra_Engine"
   ]
  },
  {
   "cell_type": "code",
   "execution_count": 2,
   "id": "27864ac2-4010-464c-b3cd-44bf619c7870",
   "metadata": {},
   "outputs": [],
   "source": [
    "from indra_engine.to_from import get_INDRAstmts_from_biorecipeI\n",
    "biorecipe_input = 'interaction_lists/interaction_biorecipe.xlsx'\n",
    "indra_output = 'indra/indra_stmts.json'\n",
    "get_INDRAstmts_from_biorecipeI(biorecipe_input, indra_output)"
   ]
  },
  {
   "cell_type": "code",
   "execution_count": 3,
   "id": "cc616544-d6cf-4159-b64b-fc16f3b40d12",
   "metadata": {},
   "outputs": [
    {
     "name": "stderr",
     "output_type": "stream",
     "text": [
      "INFO: [2024-05-14 16:01:04] indra_db_rest.query_processor - Retrieving statements that are from papers where pmcid=PMC2275380.\n",
      "INFO: [2024-05-14 16:01:04] indra_db_rest.request_logs - Running 0th request for statements\n",
      "INFO: [2024-05-14 16:01:04] indra_db_rest.request_logs -   LIMIT: None\n",
      "INFO: [2024-05-14 16:01:04] indra_db_rest.request_logs -   OFFSET: 0\n",
      "WARNING: [2024-05-14 16:01:11] indra.sources.reach.api - Could not import jnius, offline reading option will not be available.\n"
     ]
    }
   ],
   "source": [
    "from indra_engine.to_from import get_biorecipeI_from_pmcids\n",
    "ids = 'pmcid/ids.csv'\n",
    "outdir = 'interaction_lists/ids_biorecipe.xlsx'\n",
    "get_biorecipeI_from_pmcids(ids, outdir)"
   ]
  },
  {
   "cell_type": "markdown",
   "id": "81bed505-a1ce-460d-a424-d1f607781082",
   "metadata": {},
   "source": [
    "### Translator within BioRECIPE"
   ]
  },
  {
   "cell_type": "code",
   "execution_count": 3,
   "id": "7ce55baa-cd6c-4ea1-8441-aa433b5e11a0",
   "metadata": {},
   "outputs": [
    {
     "name": "stderr",
     "output_type": "stream",
     "text": [
      "/Users/cs-loaner/Library/CloudStorage/OneDrive-UniversityofPittsburgh/Personal/Github/BioRECIPE/translators/within_biorecipe/md_and_int.py:266: UserWarning: cannot process row 73, entity types are not included in BioRECIPE.\n",
      "  warnings.warn(\n",
      "/Users/cs-loaner/Library/CloudStorage/OneDrive-UniversityofPittsburgh/Personal/Github/BioRECIPE/translators/within_biorecipe/md_and_int.py:266: UserWarning: cannot process row 74, entity types are not included in BioRECIPE.\n",
      "  warnings.warn(\n"
     ]
    }
   ],
   "source": [
    "from within_biorecipe.md_and_int import interactions_to_model\n",
    "\n",
    "biorecipeI_input = 'interaction_lists/MachineReadingOutput.xlsx'\n",
    "biorecipeM_output = 'models/MachineReadingOuput_model.xlsx'\n",
    "interactions_to_model(biorecipeI_input, biorecipeM_output)"
   ]
  },
  {
   "cell_type": "code",
   "execution_count": 5,
   "id": "ed7f45cf-2d4e-432d-bb51-5e53f46d9fde",
   "metadata": {},
   "outputs": [],
   "source": [
    "from within_biorecipe.md_and_int import model_to_interactions\n",
    "\n",
    "biorecipeM_input = 'models/Tcell_N3_PTEN2_bio.xlsx'\n",
    "biorecipeI_output = 'interaction_lists/Tcell_N3_PTEN2_interactions.xlsx'\n",
    "model_to_interactions(biorecipeM_input, biorecipeI_output)"
   ]
  },
  {
   "cell_type": "code",
   "execution_count": 6,
   "id": "d20df9cd-32e4-417c-9dc8-60e09b0a51ee",
   "metadata": {},
   "outputs": [],
   "source": [
    "from within_biorecipe.md_and_int import reach_tab_to_biorecipeI\n",
    "\n",
    "reach_tab_input = 'interaction_lists/PMC9653562_cmu_out.tsv'\n",
    "reach_tab_output = 'interaction_lists/PMC9653562_interactions.xlsx'\n",
    "reach_tab_to_biorecipeI(reach_tab_input, reach_tab_output)"
   ]
  },
  {
   "cell_type": "code",
   "execution_count": null,
   "id": "b4d688fb-be1d-4e79-a3ff-e04cbdfe4640",
   "metadata": {},
   "outputs": [],
   "source": []
  }
 ],
 "metadata": {
  "kernelspec": {
   "display_name": "Python 3 (ipykernel)",
   "language": "python",
   "name": "python3"
  },
  "language_info": {
   "codemirror_mode": {
    "name": "ipython",
    "version": 3
   },
   "file_extension": ".py",
   "mimetype": "text/x-python",
   "name": "python",
   "nbconvert_exporter": "python",
   "pygments_lexer": "ipython3",
   "version": "3.9.6"
  }
 },
 "nbformat": 4,
 "nbformat_minor": 5
}
