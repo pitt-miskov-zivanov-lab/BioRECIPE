{
 "cells": [
  {
   "cell_type": "code",
   "execution_count": 1,
   "id": "dc5361be-011c-41e6-9ba5-64b306a492f0",
   "metadata": {},
   "outputs": [],
   "source": [
    "import sys, os\n",
    "sys.path.insert(0, os.path.abspath(os.path.join(os.getcwd(), os.pardir, 'translators')))\n",
    "\n",
    "from loguru import logger\n",
    "logger.remove(0)\n",
    "logger.add(sys.stderr, level=\"ERROR\")\n",
    "\n",
    "import warnings\n",
    "warnings.filterwarnings('ignore')"
   ]
  },
  {
   "cell_type": "markdown",
   "id": "7b43e737-81b5-4441-bf64-1c67c24df721",
   "metadata": {},
   "source": [
    "### Translator to/from Indra_Engine"
   ]
  },
  {
   "cell_type": "code",
   "execution_count": 2,
   "id": "27864ac2-4010-464c-b3cd-44bf619c7870",
   "metadata": {},
   "outputs": [],
   "source": [
    "from indra_engine.to_from import get_INDRAstmts_from_biorecipeI\n",
    "\n",
    "biorecipe_input = 'interaction_lists/interaction_biorecipe.xlsx'\n",
    "indra_output = 'indra/indra_stmts.json'\n",
    "\n",
    "get_INDRAstmts_from_biorecipeI(biorecipe_input, indra_output)"
   ]
  },
  {
   "cell_type": "code",
   "execution_count": 3,
   "id": "cc616544-d6cf-4159-b64b-fc16f3b40d12",
   "metadata": {},
   "outputs": [
    {
     "name": "stderr",
     "output_type": "stream",
     "text": [
      "INFO: [2024-05-18 05:10:26] indra_db_rest.query_processor - Retrieving statements that are from papers where pmcid=PMC2275380.\n",
      "INFO: [2024-05-18 05:10:26] indra_db_rest.request_logs - Running 0th request for statements\n",
      "INFO: [2024-05-18 05:10:26] indra_db_rest.request_logs -   LIMIT: None\n",
      "INFO: [2024-05-18 05:10:26] indra_db_rest.request_logs -   OFFSET: 0\n",
      "WARNING: [2024-05-18 05:10:32] indra.sources.reach.api - Could not import jnius, offline reading option will not be available.\n"
     ]
    }
   ],
   "source": [
    "from indra_engine.to_from import get_biorecipeI_from_pmcids\n",
    "\n",
    "ids = 'pmcid/ids.csv'\n",
    "outdir = 'interaction_lists/ids_biorecipe.xlsx'\n",
    "\n",
    "get_biorecipeI_from_pmcids(ids, outdir)"
   ]
  },
  {
   "cell_type": "markdown",
   "id": "81bed505-a1ce-460d-a424-d1f607781082",
   "metadata": {},
   "source": [
    "### Translator within BioRECIPE"
   ]
  },
  {
   "cell_type": "code",
   "execution_count": 2,
   "id": "7ce55baa-cd6c-4ea1-8441-aa433b5e11a0",
   "metadata": {},
   "outputs": [],
   "source": [
    "from within_biorecipe.md_and_int import get_model_from_interactions\n",
    "\n",
    "biorecipeI_input = 'interaction_lists/MachineReadingOutput.xlsx'\n",
    "biorecipeM_output = 'models/MachineReadingOuput_model.xlsx'\n",
    "\n",
    "get_model_from_interactions(biorecipeI_input, biorecipeM_output)"
   ]
  },
  {
   "cell_type": "code",
   "execution_count": 3,
   "id": "ed7f45cf-2d4e-432d-bb51-5e53f46d9fde",
   "metadata": {},
   "outputs": [],
   "source": [
    "from within_biorecipe.md_and_int import get_interactions_from_model\n",
    "\n",
    "biorecipeM_input = 'models/Tcell_N3_PTEN2_bio.xlsx'\n",
    "biorecipeI_output = 'interaction_lists/Tcell_N3_PTEN2_interactions.xlsx'\n",
    "\n",
    "get_interactions_from_model(biorecipeM_input, biorecipeI_output)"
   ]
  },
  {
   "cell_type": "code",
   "execution_count": 4,
   "id": "d20df9cd-32e4-417c-9dc8-60e09b0a51ee",
   "metadata": {},
   "outputs": [],
   "source": [
    "from within_biorecipe.md_and_int import get_biorecipeI_from_reach_tab\n",
    "\n",
    "reach_tab_input = 'interaction_lists/PMC9653562_cmu_out.tsv'\n",
    "reach_tab_output = 'interaction_lists/PMC9653562_interactions.xlsx'\n",
    "\n",
    "get_biorecipeI_from_reach_tab(reach_tab_input, reach_tab_output)"
   ]
  },
  {
   "cell_type": "markdown",
   "id": "9b5d1152-bf9f-4064-9174-9fa577283004",
   "metadata": {},
   "source": [
    "### Translator from REACH_Engine"
   ]
  },
  {
   "cell_type": "code",
   "execution_count": 7,
   "id": "31e01f2f-711c-459a-acd5-65b798ae79fd",
   "metadata": {},
   "outputs": [
    {
     "name": "stderr",
     "output_type": "stream",
     "text": [
      "INFO: [2024-05-18 05:10:37] indra.ontology.bio.ontology - Loading INDRA bio ontology from cache at /Users/cs-loaner/.indra/bio_ontology/1.27/bio_ontology.pkl\n",
      "WARNING: [2024-05-18 05:11:27] indra.sources.reach.processor - Could not parse site text C2 domain\n",
      "WARNING: [2024-05-18 05:11:42] indra.sources.reach.processor - Could not parse site text PH domain\n"
     ]
    }
   ],
   "source": [
    "from reach_engine.reach_fries_to_smy import get_reach_smy_from_fries\n",
    "from reach_engine.smy_to_rcp import get_biorecipeI_from_reach_smy\n",
    "\n",
    "reach_jsons_dir = 'reach/usr_reach_fries_1'\n",
    "reach_json_summary_file = 'reach/usr_reach_fries_1_summary.json'\n",
    "result_interactions_file = 'interaction_lists/usr_reach_fries_1_interactions.xlsx'\n",
    "\n",
    "get_reach_smy_from_fries(reach_jsons_dir, reach_json_summary_file)\n",
    "get_biorecipeI_from_reach_smy(reach_json_summary_file, result_interactions_file)"
   ]
  },
  {
   "cell_type": "markdown",
   "id": "d25a488f-85dc-4aa3-848e-ea035e14da2a",
   "metadata": {},
   "source": [
    "### Translator from/to SBML"
   ]
  },
  {
   "cell_type": "code",
   "execution_count": 8,
   "id": "9c4f9889-305b-4488-8f74-509c99483d4f",
   "metadata": {},
   "outputs": [],
   "source": [
    "from sbml.sbml_to_biorecipe import get_biorecipeM_from_sbml\n",
    "\n",
    "sbml_input = 'sbml/map_mapk.xml'\n",
    "biorecipe_output = 'models/map_mapk.xlsx'\n",
    "\n",
    "get_biorecipeM_from_sbml(sbml_input, biorecipe_output)"
   ]
  },
  {
   "cell_type": "code",
   "execution_count": 9,
   "id": "0c07521b-78dc-4ce0-9b94-cd3d97b6debc",
   "metadata": {},
   "outputs": [
    {
     "name": "stderr",
     "output_type": "stream",
     "text": [
      "INFO: [2024-05-18 05:14:18] root - functionDefinitions: 0\n",
      "INFO: [2024-05-18 05:14:18] root -     unitDefinitions: 0\n",
      "INFO: [2024-05-18 05:14:18] root -    compartmentTypes: 0\n",
      "INFO: [2024-05-18 05:14:18] root -         specieTypes: 0\n",
      "INFO: [2024-05-18 05:14:18] root -        compartments: 1\n",
      "INFO: [2024-05-18 05:14:18] root -             species: 21\n",
      "INFO: [2024-05-18 05:14:18] root -          parameters: 0\n",
      "INFO: [2024-05-18 05:14:18] root -  initialAssignments: 0\n",
      "INFO: [2024-05-18 05:14:18] root -               rules: 0\n",
      "INFO: [2024-05-18 05:14:18] root -         constraints: 0\n",
      "INFO: [2024-05-18 05:14:18] root -           reactions: 25\n",
      "INFO: [2024-05-18 05:14:18] root -              events: 0\n"
     ]
    }
   ],
   "source": [
    "from sbml.biorecipe_to_sbml import get_sbml_from_biorecipeI\n",
    "\n",
    "biorecipe_input = 'interaction_lists/reading_biorecipe.xlsx'\n",
    "sbml_output = 'sbml/reading_sbml.xml'\n",
    "\n",
    "get_sbml_from_biorecipeI(biorecipe_input, sbml_output)"
   ]
  },
  {
   "cell_type": "markdown",
   "id": "9a270769-69a5-4c00-843e-fe5109f98223",
   "metadata": {},
   "source": [
    "### Translator from/to SBML-Qual"
   ]
  },
  {
   "cell_type": "code",
   "execution_count": 10,
   "id": "c4d97be8-2d63-4d90-897d-6ab977eebcf1",
   "metadata": {},
   "outputs": [],
   "source": [
    "from sbmlqual.sbmlqual_to_biorecipe import get_biorecipeM_from_sbmlqual\n",
    "\n",
    "sbmlqual_input = 'sbmlqual/Tcell_differentiation.sbml'\n",
    "biorecipe_output = 'models/Tcell_differentiation.xlsx'\n",
    "\n",
    "get_biorecipeM_from_sbmlqual(sbmlqual_input, biorecipe_output)"
   ]
  },
  {
   "cell_type": "code",
   "execution_count": 11,
   "id": "37ae562a-5744-43a8-9a0c-d9f2757ee286",
   "metadata": {},
   "outputs": [],
   "source": [
    "from sbmlqual.biorecipe_to_sbmlqual import get_sbmlqual_from_biorecipeM\n",
    "\n",
    "biorecipeM_input = 'models/BooleanTcell_biorecipe.xlsx'\n",
    "sbmlqualM_output = 'sbmlqual/BooleanTcell_sbmlqual.xml'\n",
    "\n",
    "get_sbmlqual_from_biorecipeM(biorecipeM_input, sbmlqualM_output)"
   ]
  },
  {
   "cell_type": "code",
   "execution_count": 5,
   "id": "440cd153-f3b8-4c75-82a9-faef1225f01b",
   "metadata": {},
   "outputs": [],
   "source": [
    "from sbmlqual.biorecipe_to_sbmlqual import get_sbmlqual_from_biorecipeI\n",
    "\n",
    "biorecipeI_input = 'interaction_lists/Reading_biorecipe.xlsx'\n",
    "sbmlqualI_output ='sbmlqual/Reading_sbmlqual.xml'\n",
    "\n",
    "get_sbmlqual_from_biorecipeI(biorecipeI_input, sbmlqualI_output)"
   ]
  }
 ],
 "metadata": {
  "kernelspec": {
   "display_name": "Python 3 (ipykernel)",
   "language": "python",
   "name": "python3"
  },
  "language_info": {
   "codemirror_mode": {
    "name": "ipython",
    "version": 3
   },
   "file_extension": ".py",
   "mimetype": "text/x-python",
   "name": "python",
   "nbconvert_exporter": "python",
   "pygments_lexer": "ipython3",
   "version": "3.9.6"
  }
 },
 "nbformat": 4,
 "nbformat_minor": 5
}
