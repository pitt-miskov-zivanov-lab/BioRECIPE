{
 "cells": [
  {
   "cell_type": "code",
   "execution_count": 2,
   "id": "dc5361be-011c-41e6-9ba5-64b306a492f0",
   "metadata": {},
   "outputs": [],
   "source": [
    "import sys\n",
    "import os\n",
    "sys.path.insert(0, os.path.abspath(os.path.join(os.getcwd(), os.pardir, 'translators')))"
   ]
  },
  {
   "cell_type": "code",
   "execution_count": 3,
   "id": "473f32af-3e94-4fdd-b79d-2d0c91f57089",
   "metadata": {},
   "outputs": [
    {
     "name": "stderr",
     "output_type": "stream",
     "text": [
      "INFO: [2024-05-14 05:46:39] indra_db_rest.query_processor - Retrieving statements that are from papers where pmcid=PMC2275380.\n",
      "INFO: [2024-05-14 05:46:39] indra_db_rest.request_logs - Running 0th request for statements\n",
      "INFO: [2024-05-14 05:46:39] indra_db_rest.request_logs -   LIMIT: None\n",
      "INFO: [2024-05-14 05:46:39] indra_db_rest.request_logs -   OFFSET: 0\n"
     ]
    }
   ],
   "source": [
    "from indra_engine.to_from import get_biorecipeI_from_pmcids, get_INDRAstmts_from_biorecipeI\n",
    "\n",
    "biorecipe_input = 'interaction_lists/interaction_biorecipe.xlsx'\n",
    "indra_output = 'indra/indra_stmts.json'\n",
    "\n",
    "ids = 'pmcid/ids.csv'\n",
    "outdir = 'interaction_lists/ids_biorecipe.xlsx'\n",
    "\n",
    "get_biorecipeI_from_pmcids(ids, outdir)\n",
    "get_INDRAstmts_from_biorecipeI(biorecipe_input, indra_output)"
   ]
  },
  {
   "cell_type": "code",
   "execution_count": null,
   "id": "b3da2f2c-1f25-478d-90bc-cd1e3753c63a",
   "metadata": {},
   "outputs": [],
   "source": []
  }
 ],
 "metadata": {
  "kernelspec": {
   "display_name": "Python 3 (ipykernel)",
   "language": "python",
   "name": "python3"
  },
  "language_info": {
   "codemirror_mode": {
    "name": "ipython",
    "version": 3
   },
   "file_extension": ".py",
   "mimetype": "text/x-python",
   "name": "python",
   "nbconvert_exporter": "python",
   "pygments_lexer": "ipython3",
   "version": "3.9.6"
  }
 },
 "nbformat": 4,
 "nbformat_minor": 5
}
